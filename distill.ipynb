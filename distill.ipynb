{
 "cells": [
  {
   "cell_type": "code",
   "execution_count": 1,
   "metadata": {},
   "outputs": [],
   "source": [
    "import os\n",
    "import torch\n",
    "import numpy as np\n",
    "import pandas as pd\n",
    "\n",
    "from tqdm.auto import tqdm\n",
    "from datasets import load_dataset\n",
    "#import datasets\n",
    "from torch.utils.data import DataLoader\n",
    "from sklearn.metrics import roc_auc_score\n",
    "from transformers import DataCollatorWithPadding\n",
    "from transformers import AutoTokenizer, AutoModelForSequenceClassification\n",
    "from transformers import PyTorchBenchmark, PyTorchBenchmarkArguments, TrainingArguments, Trainer\n",
    "import evaluate\n",
    "\n",
    "accuracy = evaluate.load(\"accuracy\")\n",
    "import warnings\n",
    "warnings.filterwarnings('ignore')"
   ]
  },
  {
   "cell_type": "code",
   "execution_count": 2,
   "metadata": {},
   "outputs": [],
   "source": [
    "dataset = load_dataset('Den4ikAI/russian_dialogues')"
   ]
  },
  {
   "cell_type": "code",
   "execution_count": 3,
   "metadata": {},
   "outputs": [],
   "source": [
    "dataset = dataset.class_encode_column('relevance')\n",
    "dataset = dataset.rename_column('relevance', 'labels')"
   ]
  },
  {
   "cell_type": "code",
   "execution_count": 4,
   "metadata": {},
   "outputs": [],
   "source": [
    "dataset = dataset['train'].train_test_split(\n",
    "    test_size=0.20,\n",
    "    shuffle=True,\n",
    "    stratify_by_column='labels',\n",
    "    seed=42\n",
    "    )"
   ]
  },
  {
   "cell_type": "code",
   "execution_count": 5,
   "metadata": {},
   "outputs": [],
   "source": [
    "dataset = dataset.filter(\n",
    "    lambda example: type(example['question']) is str and type(example['answer']) is str\n",
    ")"
   ]
  },
  {
   "cell_type": "code",
   "execution_count": 6,
   "metadata": {},
   "outputs": [],
   "source": [
    "TEACHER_NAME = 'Den4ikAI/ruBert-base-qa-ranker'\n",
    "teacher_tokenizer = AutoTokenizer.from_pretrained(TEACHER_NAME)\n",
    "teacher_model = AutoModelForSequenceClassification.from_pretrained(TEACHER_NAME)"
   ]
  },
  {
   "cell_type": "code",
   "execution_count": 7,
   "metadata": {},
   "outputs": [
    {
     "name": "stderr",
     "output_type": "stream",
     "text": [
      "Some weights of the model checkpoint at cointegrated/rubert-tiny2 were not used when initializing BertForSequenceClassification: ['cls.seq_relationship.bias', 'cls.predictions.transform.dense.weight', 'cls.predictions.decoder.bias', 'cls.seq_relationship.weight', 'cls.predictions.decoder.weight', 'cls.predictions.transform.dense.bias', 'cls.predictions.bias', 'cls.predictions.transform.LayerNorm.weight', 'cls.predictions.transform.LayerNorm.bias']\n",
      "- This IS expected if you are initializing BertForSequenceClassification from the checkpoint of a model trained on another task or with another architecture (e.g. initializing a BertForSequenceClassification model from a BertForPreTraining model).\n",
      "- This IS NOT expected if you are initializing BertForSequenceClassification from the checkpoint of a model that you expect to be exactly identical (initializing a BertForSequenceClassification model from a BertForSequenceClassification model).\n",
      "Some weights of BertForSequenceClassification were not initialized from the model checkpoint at cointegrated/rubert-tiny2 and are newly initialized: ['classifier.bias', 'classifier.weight']\n",
      "You should probably TRAIN this model on a down-stream task to be able to use it for predictions and inference.\n"
     ]
    }
   ],
   "source": [
    "STUDENT_NAME = 'cointegrated/rubert-tiny2'\n",
    "student_tokenizer = AutoTokenizer.from_pretrained(STUDENT_NAME)\n",
    "student_model = AutoModelForSequenceClassification.from_pretrained(STUDENT_NAME)"
   ]
  },
  {
   "cell_type": "code",
   "execution_count": 8,
   "metadata": {},
   "outputs": [
    {
     "name": "stdout",
     "output_type": "stream",
     "text": [
      "cuda:0\n",
      "cuda:0\n"
     ]
    }
   ],
   "source": [
    "if torch.cuda.is_available():\n",
    "    student_model.to('cuda')\n",
    "    teacher_model.to('cuda')\n",
    "\n",
    "print(student_model.device)\n",
    "print(teacher_model.device)"
   ]
  },
  {
   "cell_type": "code",
   "execution_count": 9,
   "metadata": {},
   "outputs": [],
   "source": [
    "def tokenization(example, tokenizer):\n",
    "    return tokenizer(\n",
    "        '[CLS]' + example['question'] + '[RESPONSE_TOKEN]' + example['answer'],\n",
    "        max_length=512,\n",
    "        padding='max_length',\n",
    "        truncation=True,\n",
    "        add_special_tokens=False\n",
    "        )"
   ]
  },
  {
   "cell_type": "code",
   "execution_count": 10,
   "metadata": {},
   "outputs": [],
   "source": [
    "dataset_test = dataset['test']\n",
    "#dataset_train = dataset['train']\n",
    "dataset_train = dataset['train'].select(indices=range(0, 10000))"
   ]
  },
  {
   "cell_type": "code",
   "execution_count": 11,
   "metadata": {},
   "outputs": [
    {
     "data": {
      "application/vnd.jupyter.widget-view+json": {
       "model_id": "301cec86ff7d4fe2906b4f8b952f736e",
       "version_major": 2,
       "version_minor": 0
      },
      "text/plain": [
       "Map:   0%|          | 0/10000 [00:00<?, ? examples/s]"
      ]
     },
     "metadata": {},
     "output_type": "display_data"
    }
   ],
   "source": [
    "dataset_train_teacher = dataset_train.map(lambda x: tokenization(x, teacher_tokenizer), batched=False)"
   ]
  },
  {
   "cell_type": "code",
   "execution_count": 12,
   "metadata": {},
   "outputs": [],
   "source": [
    "dataset_train_teacher.set_format(\n",
    "    type=\"torch\",\n",
    "    columns=[\"input_ids\", \"token_type_ids\", \"attention_mask\", \"labels\"]\n",
    ")"
   ]
  },
  {
   "cell_type": "code",
   "execution_count": 13,
   "metadata": {},
   "outputs": [],
   "source": [
    "data_collator = DataCollatorWithPadding(teacher_tokenizer)"
   ]
  },
  {
   "cell_type": "code",
   "execution_count": 14,
   "metadata": {},
   "outputs": [],
   "source": [
    "batch_size = 16"
   ]
  },
  {
   "cell_type": "code",
   "execution_count": 15,
   "metadata": {},
   "outputs": [],
   "source": [
    "train_dataloader = DataLoader(\n",
    "    dataset_train_teacher, \n",
    "    batch_size=batch_size,\n",
    "    drop_last=False,\n",
    "    shuffle=False,\n",
    "    num_workers=0,\n",
    "    collate_fn=data_collator\n",
    ")"
   ]
  },
  {
   "cell_type": "code",
   "execution_count": 16,
   "metadata": {},
   "outputs": [],
   "source": [
    "def predict_with_model(model, dataloader, max_idx=None):\n",
    "    preds = []\n",
    "    facts = []\n",
    "\n",
    "    for idx, batch in tqdm(enumerate(dataloader), total=max_idx if max_idx else len(dataloader)):\n",
    "        facts.append(batch.labels.cpu().numpy())\n",
    "        batch = batch.to(model.device)\n",
    "\n",
    "        with torch.no_grad():\n",
    "            pred = model(\n",
    "                input_ids=batch.input_ids,\n",
    "                attention_mask=batch.attention_mask,\n",
    "                token_type_ids=batch.token_type_ids\n",
    "            )\n",
    "        preds.append(torch.sigmoid(pred.logits).cpu().numpy())\n",
    "        \n",
    "        if idx == max_idx:\n",
    "            break\n",
    "\n",
    "    facts = np.concatenate(facts)\n",
    "    preds = np.concatenate(preds)\n",
    "\n",
    "    return facts, preds"
   ]
  },
  {
   "cell_type": "code",
   "execution_count": 17,
   "metadata": {},
   "outputs": [
    {
     "data": {
      "application/vnd.jupyter.widget-view+json": {
       "model_id": "925c54f6d2644052b22d5a479b0e0652",
       "version_major": 2,
       "version_minor": 0
      },
      "text/plain": [
       "  0%|          | 0/625 [00:00<?, ?it/s]"
      ]
     },
     "metadata": {},
     "output_type": "display_data"
    },
    {
     "name": "stderr",
     "output_type": "stream",
     "text": [
      "You're using a BertTokenizerFast tokenizer. Please note that with a fast tokenizer, using the `__call__` method is faster than using a method to encode the text followed by a call to the `pad` method to get a padded encoding.\n"
     ]
    }
   ],
   "source": [
    "_, teacher_labels = predict_with_model(teacher_model, train_dataloader)"
   ]
  },
  {
   "cell_type": "code",
   "execution_count": 18,
   "metadata": {},
   "outputs": [],
   "source": [
    "teacher_labels = np.argmax(teacher_labels, 1)"
   ]
  },
  {
   "cell_type": "code",
   "execution_count": 19,
   "metadata": {},
   "outputs": [
    {
     "data": {
      "application/vnd.jupyter.widget-view+json": {
       "model_id": "24bfafe3590346838151ed9af2c58d80",
       "version_major": 2,
       "version_minor": 0
      },
      "text/plain": [
       "Flattening the indices:   0%|          | 0/10000 [00:00<?, ? examples/s]"
      ]
     },
     "metadata": {},
     "output_type": "display_data"
    }
   ],
   "source": [
    "dataset_train = dataset_train.remove_columns(\"labels\").add_column(\"labels\", teacher_labels)"
   ]
  },
  {
   "cell_type": "code",
   "execution_count": 20,
   "metadata": {},
   "outputs": [
    {
     "data": {
      "application/vnd.jupyter.widget-view+json": {
       "model_id": "6de37aa6980244fe83a10907b9a9482a",
       "version_major": 2,
       "version_minor": 0
      },
      "text/plain": [
       "Map:   0%|          | 0/10000 [00:00<?, ? examples/s]"
      ]
     },
     "metadata": {},
     "output_type": "display_data"
    }
   ],
   "source": [
    "dataset_train_student = dataset_train.map(lambda x: tokenization(x, student_tokenizer), batched=False)"
   ]
  },
  {
   "cell_type": "code",
   "execution_count": 21,
   "metadata": {},
   "outputs": [],
   "source": [
    "dataset_train_student.set_format(\n",
    "    type=\"torch\",\n",
    "    columns=[\"input_ids\", \"token_type_ids\", \"attention_mask\", \"labels\"]\n",
    ")"
   ]
  },
  {
   "cell_type": "code",
   "execution_count": 22,
   "metadata": {},
   "outputs": [],
   "source": [
    "lenght = (len(dataset_train_student)//100) *50"
   ]
  },
  {
   "cell_type": "code",
   "execution_count": 23,
   "metadata": {},
   "outputs": [],
   "source": [
    "dataset_train_st = dataset_train_student.select(indices=range(0, lenght))\n",
    "dataset_test_st = dataset_train_student.select(indices=range(lenght, lenght * 2))"
   ]
  },
  {
   "cell_type": "code",
   "execution_count": 24,
   "metadata": {},
   "outputs": [],
   "source": [
    "training_args = TrainingArguments(\n",
    "\n",
    "    output_dir=\"distillated_student\",\n",
    "\n",
    "    learning_rate=2e-5,\n",
    "\n",
    "    per_device_train_batch_size=20,\n",
    "\n",
    "    per_device_eval_batch_size=16,\n",
    "\n",
    "    num_train_epochs=15,\n",
    "\n",
    "    weight_decay=0.01,\n",
    "\n",
    "    evaluation_strategy=\"epoch\",\n",
    "\n",
    "    save_strategy=\"epoch\",\n",
    "\n",
    "    load_best_model_at_end=True,\n",
    "\n",
    "    push_to_hub=False,\n",
    "    logging_steps = 1\n",
    "\n",
    ")"
   ]
  },
  {
   "cell_type": "code",
   "execution_count": 25,
   "metadata": {},
   "outputs": [],
   "source": [
    "def compute_metrics(eval_pred):\n",
    "\n",
    "    predictions, labels = eval_pred\n",
    "\n",
    "    predictions = np.argmax(predictions, axis=1)\n",
    "\n",
    "    return accuracy.compute(predictions=predictions, references=labels)"
   ]
  },
  {
   "cell_type": "code",
   "execution_count": 26,
   "metadata": {},
   "outputs": [],
   "source": [
    "trainer = Trainer(\n",
    "\n",
    "    model=student_model,\n",
    "\n",
    "    args=training_args,\n",
    "\n",
    "    train_dataset=dataset_train_st,\n",
    "\n",
    "    eval_dataset=dataset_test_st,\n",
    "\n",
    "    tokenizer=student_tokenizer,\n",
    "\n",
    "    data_collator=data_collator,\n",
    "\n",
    "    compute_metrics=compute_metrics,\n",
    "\n",
    ")"
   ]
  },
  {
   "cell_type": "code",
   "execution_count": 27,
   "metadata": {},
   "outputs": [
    {
     "name": "stderr",
     "output_type": "stream",
     "text": [
      "The following columns in the training set don't have a corresponding argument in `BertForSequenceClassification.forward` and have been ignored: question, answer. If question, answer are not expected by `BertForSequenceClassification.forward`,  you can safely ignore this message.\n",
      "***** Running training *****\n",
      "  Num examples = 5000\n",
      "  Num Epochs = 15\n",
      "  Instantaneous batch size per device = 20\n",
      "  Total train batch size (w. parallel, distributed & accumulation) = 40\n",
      "  Gradient Accumulation steps = 1\n",
      "  Total optimization steps = 1875\n",
      "  Number of trainable parameters = 29194394\n"
     ]
    },
    {
     "data": {
      "text/html": [
       "\n",
       "    <div>\n",
       "      \n",
       "      <progress value='1875' max='1875' style='width:300px; height:20px; vertical-align: middle;'></progress>\n",
       "      [1875/1875 18:04, Epoch 15/15]\n",
       "    </div>\n",
       "    <table border=\"1\" class=\"dataframe\">\n",
       "  <thead>\n",
       " <tr style=\"text-align: left;\">\n",
       "      <th>Epoch</th>\n",
       "      <th>Training Loss</th>\n",
       "      <th>Validation Loss</th>\n",
       "      <th>Accuracy</th>\n",
       "    </tr>\n",
       "  </thead>\n",
       "  <tbody>\n",
       "    <tr>\n",
       "      <td>1</td>\n",
       "      <td>0.493000</td>\n",
       "      <td>0.612679</td>\n",
       "      <td>0.670000</td>\n",
       "    </tr>\n",
       "    <tr>\n",
       "      <td>2</td>\n",
       "      <td>0.570300</td>\n",
       "      <td>0.598592</td>\n",
       "      <td>0.683600</td>\n",
       "    </tr>\n",
       "    <tr>\n",
       "      <td>3</td>\n",
       "      <td>0.433400</td>\n",
       "      <td>0.596295</td>\n",
       "      <td>0.694000</td>\n",
       "    </tr>\n",
       "    <tr>\n",
       "      <td>4</td>\n",
       "      <td>0.516300</td>\n",
       "      <td>0.600280</td>\n",
       "      <td>0.697200</td>\n",
       "    </tr>\n",
       "    <tr>\n",
       "      <td>5</td>\n",
       "      <td>0.496800</td>\n",
       "      <td>0.592021</td>\n",
       "      <td>0.705200</td>\n",
       "    </tr>\n",
       "    <tr>\n",
       "      <td>6</td>\n",
       "      <td>0.486700</td>\n",
       "      <td>0.599254</td>\n",
       "      <td>0.702200</td>\n",
       "    </tr>\n",
       "    <tr>\n",
       "      <td>7</td>\n",
       "      <td>0.424400</td>\n",
       "      <td>0.615119</td>\n",
       "      <td>0.707400</td>\n",
       "    </tr>\n",
       "    <tr>\n",
       "      <td>8</td>\n",
       "      <td>0.430200</td>\n",
       "      <td>0.619764</td>\n",
       "      <td>0.709000</td>\n",
       "    </tr>\n",
       "    <tr>\n",
       "      <td>9</td>\n",
       "      <td>0.381200</td>\n",
       "      <td>0.627447</td>\n",
       "      <td>0.709000</td>\n",
       "    </tr>\n",
       "    <tr>\n",
       "      <td>10</td>\n",
       "      <td>0.383500</td>\n",
       "      <td>0.645444</td>\n",
       "      <td>0.709200</td>\n",
       "    </tr>\n",
       "    <tr>\n",
       "      <td>11</td>\n",
       "      <td>0.338800</td>\n",
       "      <td>0.661377</td>\n",
       "      <td>0.706600</td>\n",
       "    </tr>\n",
       "    <tr>\n",
       "      <td>12</td>\n",
       "      <td>0.331000</td>\n",
       "      <td>0.677966</td>\n",
       "      <td>0.705400</td>\n",
       "    </tr>\n",
       "    <tr>\n",
       "      <td>13</td>\n",
       "      <td>0.422700</td>\n",
       "      <td>0.682286</td>\n",
       "      <td>0.704000</td>\n",
       "    </tr>\n",
       "    <tr>\n",
       "      <td>14</td>\n",
       "      <td>0.299400</td>\n",
       "      <td>0.690646</td>\n",
       "      <td>0.705800</td>\n",
       "    </tr>\n",
       "    <tr>\n",
       "      <td>15</td>\n",
       "      <td>0.529300</td>\n",
       "      <td>0.692640</td>\n",
       "      <td>0.704600</td>\n",
       "    </tr>\n",
       "  </tbody>\n",
       "</table><p>"
      ],
      "text/plain": [
       "<IPython.core.display.HTML object>"
      ]
     },
     "metadata": {},
     "output_type": "display_data"
    },
    {
     "name": "stderr",
     "output_type": "stream",
     "text": [
      "The following columns in the evaluation set don't have a corresponding argument in `BertForSequenceClassification.forward` and have been ignored: question, answer. If question, answer are not expected by `BertForSequenceClassification.forward`,  you can safely ignore this message.\n",
      "***** Running Evaluation *****\n",
      "  Num examples = 5000\n",
      "  Batch size = 32\n",
      "Saving model checkpoint to distillated_student/checkpoint-125\n",
      "Configuration saved in distillated_student/checkpoint-125/config.json\n",
      "Model weights saved in distillated_student/checkpoint-125/pytorch_model.bin\n",
      "tokenizer config file saved in distillated_student/checkpoint-125/tokenizer_config.json\n",
      "Special tokens file saved in distillated_student/checkpoint-125/special_tokens_map.json\n",
      "The following columns in the evaluation set don't have a corresponding argument in `BertForSequenceClassification.forward` and have been ignored: question, answer. If question, answer are not expected by `BertForSequenceClassification.forward`,  you can safely ignore this message.\n",
      "***** Running Evaluation *****\n",
      "  Num examples = 5000\n",
      "  Batch size = 32\n",
      "Saving model checkpoint to distillated_student/checkpoint-250\n",
      "Configuration saved in distillated_student/checkpoint-250/config.json\n",
      "Model weights saved in distillated_student/checkpoint-250/pytorch_model.bin\n",
      "tokenizer config file saved in distillated_student/checkpoint-250/tokenizer_config.json\n",
      "Special tokens file saved in distillated_student/checkpoint-250/special_tokens_map.json\n",
      "The following columns in the evaluation set don't have a corresponding argument in `BertForSequenceClassification.forward` and have been ignored: question, answer. If question, answer are not expected by `BertForSequenceClassification.forward`,  you can safely ignore this message.\n",
      "***** Running Evaluation *****\n",
      "  Num examples = 5000\n",
      "  Batch size = 32\n",
      "Saving model checkpoint to distillated_student/checkpoint-375\n",
      "Configuration saved in distillated_student/checkpoint-375/config.json\n",
      "Model weights saved in distillated_student/checkpoint-375/pytorch_model.bin\n",
      "tokenizer config file saved in distillated_student/checkpoint-375/tokenizer_config.json\n",
      "Special tokens file saved in distillated_student/checkpoint-375/special_tokens_map.json\n",
      "The following columns in the evaluation set don't have a corresponding argument in `BertForSequenceClassification.forward` and have been ignored: question, answer. If question, answer are not expected by `BertForSequenceClassification.forward`,  you can safely ignore this message.\n",
      "***** Running Evaluation *****\n",
      "  Num examples = 5000\n",
      "  Batch size = 32\n",
      "Saving model checkpoint to distillated_student/checkpoint-500\n",
      "Configuration saved in distillated_student/checkpoint-500/config.json\n",
      "Model weights saved in distillated_student/checkpoint-500/pytorch_model.bin\n",
      "tokenizer config file saved in distillated_student/checkpoint-500/tokenizer_config.json\n",
      "Special tokens file saved in distillated_student/checkpoint-500/special_tokens_map.json\n",
      "The following columns in the evaluation set don't have a corresponding argument in `BertForSequenceClassification.forward` and have been ignored: question, answer. If question, answer are not expected by `BertForSequenceClassification.forward`,  you can safely ignore this message.\n",
      "***** Running Evaluation *****\n",
      "  Num examples = 5000\n",
      "  Batch size = 32\n",
      "Saving model checkpoint to distillated_student/checkpoint-625\n",
      "Configuration saved in distillated_student/checkpoint-625/config.json\n",
      "Model weights saved in distillated_student/checkpoint-625/pytorch_model.bin\n",
      "tokenizer config file saved in distillated_student/checkpoint-625/tokenizer_config.json\n",
      "Special tokens file saved in distillated_student/checkpoint-625/special_tokens_map.json\n",
      "The following columns in the evaluation set don't have a corresponding argument in `BertForSequenceClassification.forward` and have been ignored: question, answer. If question, answer are not expected by `BertForSequenceClassification.forward`,  you can safely ignore this message.\n",
      "***** Running Evaluation *****\n",
      "  Num examples = 5000\n",
      "  Batch size = 32\n",
      "Saving model checkpoint to distillated_student/checkpoint-750\n",
      "Configuration saved in distillated_student/checkpoint-750/config.json\n",
      "Model weights saved in distillated_student/checkpoint-750/pytorch_model.bin\n",
      "tokenizer config file saved in distillated_student/checkpoint-750/tokenizer_config.json\n",
      "Special tokens file saved in distillated_student/checkpoint-750/special_tokens_map.json\n",
      "The following columns in the evaluation set don't have a corresponding argument in `BertForSequenceClassification.forward` and have been ignored: question, answer. If question, answer are not expected by `BertForSequenceClassification.forward`,  you can safely ignore this message.\n",
      "***** Running Evaluation *****\n",
      "  Num examples = 5000\n",
      "  Batch size = 32\n",
      "Saving model checkpoint to distillated_student/checkpoint-875\n",
      "Configuration saved in distillated_student/checkpoint-875/config.json\n",
      "Model weights saved in distillated_student/checkpoint-875/pytorch_model.bin\n",
      "tokenizer config file saved in distillated_student/checkpoint-875/tokenizer_config.json\n",
      "Special tokens file saved in distillated_student/checkpoint-875/special_tokens_map.json\n",
      "The following columns in the evaluation set don't have a corresponding argument in `BertForSequenceClassification.forward` and have been ignored: question, answer. If question, answer are not expected by `BertForSequenceClassification.forward`,  you can safely ignore this message.\n",
      "***** Running Evaluation *****\n",
      "  Num examples = 5000\n",
      "  Batch size = 32\n",
      "Saving model checkpoint to distillated_student/checkpoint-1000\n",
      "Configuration saved in distillated_student/checkpoint-1000/config.json\n",
      "Model weights saved in distillated_student/checkpoint-1000/pytorch_model.bin\n",
      "tokenizer config file saved in distillated_student/checkpoint-1000/tokenizer_config.json\n",
      "Special tokens file saved in distillated_student/checkpoint-1000/special_tokens_map.json\n",
      "The following columns in the evaluation set don't have a corresponding argument in `BertForSequenceClassification.forward` and have been ignored: question, answer. If question, answer are not expected by `BertForSequenceClassification.forward`,  you can safely ignore this message.\n",
      "***** Running Evaluation *****\n",
      "  Num examples = 5000\n",
      "  Batch size = 32\n",
      "Saving model checkpoint to distillated_student/checkpoint-1125\n",
      "Configuration saved in distillated_student/checkpoint-1125/config.json\n",
      "Model weights saved in distillated_student/checkpoint-1125/pytorch_model.bin\n",
      "tokenizer config file saved in distillated_student/checkpoint-1125/tokenizer_config.json\n",
      "Special tokens file saved in distillated_student/checkpoint-1125/special_tokens_map.json\n",
      "The following columns in the evaluation set don't have a corresponding argument in `BertForSequenceClassification.forward` and have been ignored: question, answer. If question, answer are not expected by `BertForSequenceClassification.forward`,  you can safely ignore this message.\n",
      "***** Running Evaluation *****\n",
      "  Num examples = 5000\n",
      "  Batch size = 32\n",
      "Saving model checkpoint to distillated_student/checkpoint-1250\n",
      "Configuration saved in distillated_student/checkpoint-1250/config.json\n",
      "Model weights saved in distillated_student/checkpoint-1250/pytorch_model.bin\n",
      "tokenizer config file saved in distillated_student/checkpoint-1250/tokenizer_config.json\n",
      "Special tokens file saved in distillated_student/checkpoint-1250/special_tokens_map.json\n",
      "The following columns in the evaluation set don't have a corresponding argument in `BertForSequenceClassification.forward` and have been ignored: question, answer. If question, answer are not expected by `BertForSequenceClassification.forward`,  you can safely ignore this message.\n",
      "***** Running Evaluation *****\n",
      "  Num examples = 5000\n",
      "  Batch size = 32\n",
      "Saving model checkpoint to distillated_student/checkpoint-1375\n",
      "Configuration saved in distillated_student/checkpoint-1375/config.json\n",
      "Model weights saved in distillated_student/checkpoint-1375/pytorch_model.bin\n",
      "tokenizer config file saved in distillated_student/checkpoint-1375/tokenizer_config.json\n",
      "Special tokens file saved in distillated_student/checkpoint-1375/special_tokens_map.json\n",
      "The following columns in the evaluation set don't have a corresponding argument in `BertForSequenceClassification.forward` and have been ignored: question, answer. If question, answer are not expected by `BertForSequenceClassification.forward`,  you can safely ignore this message.\n",
      "***** Running Evaluation *****\n",
      "  Num examples = 5000\n",
      "  Batch size = 32\n",
      "Saving model checkpoint to distillated_student/checkpoint-1500\n",
      "Configuration saved in distillated_student/checkpoint-1500/config.json\n",
      "Model weights saved in distillated_student/checkpoint-1500/pytorch_model.bin\n",
      "tokenizer config file saved in distillated_student/checkpoint-1500/tokenizer_config.json\n",
      "Special tokens file saved in distillated_student/checkpoint-1500/special_tokens_map.json\n",
      "The following columns in the evaluation set don't have a corresponding argument in `BertForSequenceClassification.forward` and have been ignored: question, answer. If question, answer are not expected by `BertForSequenceClassification.forward`,  you can safely ignore this message.\n",
      "***** Running Evaluation *****\n",
      "  Num examples = 5000\n",
      "  Batch size = 32\n",
      "Saving model checkpoint to distillated_student/checkpoint-1625\n",
      "Configuration saved in distillated_student/checkpoint-1625/config.json\n",
      "Model weights saved in distillated_student/checkpoint-1625/pytorch_model.bin\n",
      "tokenizer config file saved in distillated_student/checkpoint-1625/tokenizer_config.json\n",
      "Special tokens file saved in distillated_student/checkpoint-1625/special_tokens_map.json\n",
      "The following columns in the evaluation set don't have a corresponding argument in `BertForSequenceClassification.forward` and have been ignored: question, answer. If question, answer are not expected by `BertForSequenceClassification.forward`,  you can safely ignore this message.\n",
      "***** Running Evaluation *****\n",
      "  Num examples = 5000\n",
      "  Batch size = 32\n",
      "Saving model checkpoint to distillated_student/checkpoint-1750\n",
      "Configuration saved in distillated_student/checkpoint-1750/config.json\n",
      "Model weights saved in distillated_student/checkpoint-1750/pytorch_model.bin\n",
      "tokenizer config file saved in distillated_student/checkpoint-1750/tokenizer_config.json\n",
      "Special tokens file saved in distillated_student/checkpoint-1750/special_tokens_map.json\n",
      "The following columns in the evaluation set don't have a corresponding argument in `BertForSequenceClassification.forward` and have been ignored: question, answer. If question, answer are not expected by `BertForSequenceClassification.forward`,  you can safely ignore this message.\n",
      "***** Running Evaluation *****\n",
      "  Num examples = 5000\n",
      "  Batch size = 32\n",
      "Saving model checkpoint to distillated_student/checkpoint-1875\n",
      "Configuration saved in distillated_student/checkpoint-1875/config.json\n",
      "Model weights saved in distillated_student/checkpoint-1875/pytorch_model.bin\n",
      "tokenizer config file saved in distillated_student/checkpoint-1875/tokenizer_config.json\n",
      "Special tokens file saved in distillated_student/checkpoint-1875/special_tokens_map.json\n",
      "\n",
      "\n",
      "Training completed. Do not forget to share your model on huggingface.co/models =)\n",
      "\n",
      "\n",
      "Loading best model from distillated_student/checkpoint-625 (score: 0.5920214056968689).\n"
     ]
    },
    {
     "data": {
      "text/plain": [
       "TrainOutput(global_step=1875, training_loss=0.4221291113297145, metrics={'train_runtime': 1086.0392, 'train_samples_per_second': 69.058, 'train_steps_per_second': 1.726, 'total_flos': 553065523200000.0, 'train_loss': 0.4221291113297145, 'epoch': 15.0})"
      ]
     },
     "execution_count": 27,
     "metadata": {},
     "output_type": "execute_result"
    }
   ],
   "source": [
    "trainer.train()"
   ]
  },
  {
   "cell_type": "code",
   "execution_count": 44,
   "metadata": {},
   "outputs": [
    {
     "name": "stderr",
     "output_type": "stream",
     "text": [
      "Saving model checkpoint to great_distill_model\n",
      "Configuration saved in great_distill_model/config.json\n",
      "Model weights saved in great_distill_model/pytorch_model.bin\n",
      "tokenizer config file saved in great_distill_model/tokenizer_config.json\n",
      "Special tokens file saved in great_distill_model/special_tokens_map.json\n",
      "tokenizer config file saved in great_distill_model/tokenizer_config.json\n",
      "Special tokens file saved in great_distill_model/special_tokens_map.json\n"
     ]
    },
    {
     "data": {
      "text/plain": [
       "('great_distill_model/tokenizer_config.json',\n",
       " 'great_distill_model/special_tokens_map.json',\n",
       " 'great_distill_model/vocab.txt',\n",
       " 'great_distill_model/added_tokens.json',\n",
       " 'great_distill_model/tokenizer.json')"
      ]
     },
     "execution_count": 44,
     "metadata": {},
     "output_type": "execute_result"
    }
   ],
   "source": [
    "trainer.save_model('great_distill_model')\n",
    "student_tokenizer.save_pretrained('great_distill_model')"
   ]
  },
  {
   "cell_type": "markdown",
   "metadata": {},
   "source": [
    "## Замерим модели после дистилляции"
   ]
  },
  {
   "cell_type": "code",
   "execution_count": 45,
   "metadata": {},
   "outputs": [],
   "source": [
    "def tokenization_teacher(example):\n",
    "    return teacher_tokenizer(\n",
    "        '[CLS]' + example['question'] + '[RESPONSE_TOKEN]' + example['answer'],\n",
    "        max_length=512,\n",
    "        padding='max_length',\n",
    "        truncation=True,\n",
    "        add_special_tokens=False\n",
    "        )"
   ]
  },
  {
   "cell_type": "code",
   "execution_count": 46,
   "metadata": {},
   "outputs": [],
   "source": [
    "def tokenization_student(example):\n",
    "    return student_tokenizer(\n",
    "        '[CLS]' + example['question'] + '[RESPONSE_TOKEN]' + example['answer'],\n",
    "        max_length=512,\n",
    "        padding='max_length',\n",
    "        truncation=True,\n",
    "        add_special_tokens=False\n",
    "        )"
   ]
  },
  {
   "cell_type": "code",
   "execution_count": 47,
   "metadata": {},
   "outputs": [],
   "source": [
    "dataset = load_dataset('Den4ikAI/russian_dialogues')\n",
    "dataset = dataset.class_encode_column('relevance')\n",
    "dataset = dataset['train'].train_test_split(\n",
    "    test_size=0.05,\n",
    "    shuffle=True,\n",
    "    seed=42\n",
    "    )\n",
    "\n",
    "dataset = dataset['test']\n",
    "dataset = dataset.filter(\n",
    "    lambda example: type(example['question']) is str and type(example['answer']) is str\n",
    ")"
   ]
  },
  {
   "cell_type": "code",
   "execution_count": 48,
   "metadata": {},
   "outputs": [],
   "source": [
    "dataset = dataset.select(indices=range(5000))"
   ]
  },
  {
   "cell_type": "code",
   "execution_count": 49,
   "metadata": {},
   "outputs": [],
   "source": [
    "dataset_teacher = dataset.map(tokenization_teacher, batched=False)"
   ]
  },
  {
   "cell_type": "code",
   "execution_count": 50,
   "metadata": {},
   "outputs": [],
   "source": [
    "dataset_student = dataset.map(tokenization_student, batched=False)"
   ]
  },
  {
   "cell_type": "code",
   "execution_count": 51,
   "metadata": {},
   "outputs": [],
   "source": [
    "dataset_teacher.set_format(\n",
    "    type=\"torch\",\n",
    "    columns=[\"input_ids\", \"token_type_ids\", \"attention_mask\", \"relevance\"]\n",
    ")\n",
    "dataset_student.set_format(\n",
    "    type=\"torch\",\n",
    "    columns=[\"input_ids\", \"token_type_ids\", \"attention_mask\", \"relevance\"]\n",
    ")"
   ]
  },
  {
   "cell_type": "code",
   "execution_count": 52,
   "metadata": {},
   "outputs": [],
   "source": [
    "data_collator_teacher = DataCollatorWithPadding(teacher_tokenizer)\n",
    "data_collator_student = DataCollatorWithPadding(student_tokenizer)\n"
   ]
  },
  {
   "cell_type": "code",
   "execution_count": 53,
   "metadata": {},
   "outputs": [],
   "source": [
    "batch_size = 64"
   ]
  },
  {
   "cell_type": "code",
   "execution_count": 54,
   "metadata": {},
   "outputs": [],
   "source": [
    "test_dataloader_teacher = DataLoader(\n",
    "    dataset_teacher, \n",
    "    batch_size=batch_size,\n",
    "    drop_last=False,\n",
    "    shuffle=False,\n",
    "    num_workers=0,\n",
    "    collate_fn=data_collator_teacher\n",
    ")"
   ]
  },
  {
   "cell_type": "code",
   "execution_count": 55,
   "metadata": {},
   "outputs": [],
   "source": [
    "test_dataloader_student = DataLoader(\n",
    "    dataset_student, \n",
    "    batch_size=batch_size,\n",
    "    drop_last=False,\n",
    "    shuffle=False,\n",
    "    num_workers=0,\n",
    "    collate_fn=data_collator_student\n",
    ")"
   ]
  },
  {
   "cell_type": "code",
   "execution_count": 64,
   "metadata": {},
   "outputs": [],
   "source": [
    "import time\n",
    "def predict_with_model(model, dataloader, max_idx=None):\n",
    "    preds = []\n",
    "    facts = []\n",
    "    \n",
    "    for idx, batch in tqdm(enumerate(dataloader), total=max_idx if max_idx else len(dataloader)):\n",
    "        facts.append(batch.relevance.cpu().numpy())\n",
    "        batch = batch.to(model.device)\n",
    "        \n",
    "        with torch.no_grad():\n",
    "            pred = model(\n",
    "                input_ids=batch.input_ids,\n",
    "                attention_mask=batch.attention_mask,\n",
    "                token_type_ids=batch.token_type_ids\n",
    "            )\n",
    "        preds.append(torch.sigmoid(pred.logits).cpu().numpy())\n",
    "\n",
    "        if idx == max_idx:\n",
    "            break\n",
    "\n",
    "    facts = np.concatenate(facts)\n",
    "    preds = np.concatenate(preds)\n",
    "\n",
    "    return facts, preds\n",
    "\n",
    "\n",
    "def evaluate_model(model, dev_dataloader):\n",
    "    eval_start_time = time.time()\n",
    "    facts, preds = predict_with_model(model, dev_dataloader)\n",
    "    eval_end_time = time.time()\n",
    "    eval_duration_time = eval_end_time - eval_start_time\n",
    "    timer = 'Eval time:  ' +str(eval_duration_time)\n",
    "    roc_score = roc_auc_score(facts, preds[:, 0])\n",
    "    return roc_score, timer"
   ]
  },
  {
   "cell_type": "code",
   "execution_count": 65,
   "metadata": {},
   "outputs": [
    {
     "data": {
      "application/vnd.jupyter.widget-view+json": {
       "model_id": "2b2ccff35dcb4ae28604b19f1eeece55",
       "version_major": 2,
       "version_minor": 0
      },
      "text/plain": [
       "  0%|          | 0/79 [00:00<?, ?it/s]"
      ]
     },
     "metadata": {},
     "output_type": "display_data"
    }
   ],
   "source": [
    "roc_auc_score_teacher, timer_teacher = evaluate_model(teacher_model, test_dataloader_teacher)"
   ]
  },
  {
   "cell_type": "code",
   "execution_count": 66,
   "metadata": {},
   "outputs": [
    {
     "name": "stderr",
     "output_type": "stream",
     "text": [
      "loading configuration file great_distill_model/config.json\n",
      "Model config BertConfig {\n",
      "  \"_name_or_path\": \"great_distill_model\",\n",
      "  \"architectures\": [\n",
      "    \"BertForSequenceClassification\"\n",
      "  ],\n",
      "  \"attention_probs_dropout_prob\": 0.1,\n",
      "  \"classifier_dropout\": null,\n",
      "  \"emb_size\": 312,\n",
      "  \"gradient_checkpointing\": false,\n",
      "  \"hidden_act\": \"gelu\",\n",
      "  \"hidden_dropout_prob\": 0.1,\n",
      "  \"hidden_size\": 312,\n",
      "  \"initializer_range\": 0.02,\n",
      "  \"intermediate_size\": 600,\n",
      "  \"layer_norm_eps\": 1e-12,\n",
      "  \"max_position_embeddings\": 2048,\n",
      "  \"model_type\": \"bert\",\n",
      "  \"num_attention_heads\": 12,\n",
      "  \"num_hidden_layers\": 3,\n",
      "  \"pad_token_id\": 0,\n",
      "  \"position_embedding_type\": \"absolute\",\n",
      "  \"problem_type\": \"single_label_classification\",\n",
      "  \"torch_dtype\": \"float32\",\n",
      "  \"transformers_version\": \"4.25.1\",\n",
      "  \"type_vocab_size\": 2,\n",
      "  \"use_cache\": true,\n",
      "  \"vocab_size\": 83828\n",
      "}\n",
      "\n",
      "loading weights file great_distill_model/pytorch_model.bin\n",
      "All model checkpoint weights were used when initializing BertForSequenceClassification.\n",
      "\n",
      "All the weights of BertForSequenceClassification were initialized from the model checkpoint at great_distill_model.\n",
      "If your task is similar to the task the model of the checkpoint was trained on, you can already use BertForSequenceClassification for predictions without further training.\n"
     ]
    }
   ],
   "source": [
    "student_model = AutoModelForSequenceClassification.from_pretrained('great_distill_model').to('cuda')"
   ]
  },
  {
   "cell_type": "code",
   "execution_count": 67,
   "metadata": {},
   "outputs": [
    {
     "data": {
      "application/vnd.jupyter.widget-view+json": {
       "model_id": "c93fe74455194b6faf05359752698f12",
       "version_major": 2,
       "version_minor": 0
      },
      "text/plain": [
       "  0%|          | 0/79 [00:00<?, ?it/s]"
      ]
     },
     "metadata": {},
     "output_type": "display_data"
    }
   ],
   "source": [
    "roc_auc_score_student, timer_student = evaluate_model(student_model, test_dataloader_student)"
   ]
  },
  {
   "cell_type": "code",
   "execution_count": 68,
   "metadata": {},
   "outputs": [
    {
     "name": "stdout",
     "output_type": "stream",
     "text": [
      "Dev Area Under ROC Curve is 0.9739135049032971 origignal and 0.7153989430064729  student\n"
     ]
    }
   ],
   "source": [
    "print(f'Dev Area Under ROC Curve is {roc_auc_score_teacher} origignal and {roc_auc_score_student}  student')"
   ]
  },
  {
   "cell_type": "code",
   "execution_count": 69,
   "metadata": {},
   "outputs": [
    {
     "name": "stdout",
     "output_type": "stream",
     "text": [
      "inferense time of student is  Eval time:  4.6855950355529785 and teacher is  Eval time:  36.39859652519226\n"
     ]
    }
   ],
   "source": [
    "print(f'inferense time of student is  {timer_student} and teacher is  {timer_teacher}')"
   ]
  },
  {
   "cell_type": "code",
   "execution_count": null,
   "metadata": {},
   "outputs": [],
   "source": []
  }
 ],
 "metadata": {
  "kernelspec": {
   "display_name": "Python 3 (ipykernel)",
   "language": "python",
   "name": "python3"
  },
  "language_info": {
   "codemirror_mode": {
    "name": "ipython",
    "version": 3
   },
   "file_extension": ".py",
   "mimetype": "text/x-python",
   "name": "python",
   "nbconvert_exporter": "python",
   "pygments_lexer": "ipython3",
   "version": "3.10.12"
  }
 },
 "nbformat": 4,
 "nbformat_minor": 4
}
