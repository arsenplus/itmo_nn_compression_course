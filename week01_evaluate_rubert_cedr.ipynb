{
 "cells": [
  {
   "cell_type": "code",
   "execution_count": 2,
   "id": "4a5cd210-33ba-47c5-ac4f-cab5f606c168",
   "metadata": {
    "execution": {
     "iopub.execute_input": "2023-09-12T19:37:18.928206Z",
     "iopub.status.busy": "2023-09-12T19:37:18.927375Z",
     "iopub.status.idle": "2023-09-12T19:37:23.028159Z",
     "shell.execute_reply": "2023-09-12T19:37:23.027297Z",
     "shell.execute_reply.started": "2023-09-12T19:37:18.928171Z"
    }
   },
   "outputs": [],
   "source": [
    "import torch\n",
    "import numpy as np\n",
    "import pandas as pd\n",
    "\n",
    "from tqdm.auto import tqdm\n",
    "from datasets import load_dataset\n",
    "from torch.utils.data import DataLoader\n",
    "from sklearn.metrics import roc_auc_score\n",
    "from transformers import DataCollatorWithPadding\n",
    "from transformers import BertForSequenceClassification, AutoTokenizer\n",
    "from transformers import PyTorchBenchmark, PyTorchBenchmarkArguments\n",
    "\n",
    "import warnings\n",
    "warnings.filterwarnings('ignore')"
   ]
  },
  {
   "cell_type": "code",
   "execution_count": null,
   "id": "540403c7-2b46-4867-9184-c9ff0f8505bb",
   "metadata": {},
   "outputs": [],
   "source": [
    "!pip install -q py3nvml"
   ]
  },
  {
   "cell_type": "code",
   "execution_count": 3,
   "id": "310c1576-86c0-4ca6-afb3-ef360cfac5af",
   "metadata": {
    "execution": {
     "iopub.execute_input": "2023-09-12T19:37:23.030449Z",
     "iopub.status.busy": "2023-09-12T19:37:23.029750Z",
     "iopub.status.idle": "2023-09-12T19:37:23.509837Z",
     "shell.execute_reply": "2023-09-12T19:37:23.508893Z",
     "shell.execute_reply.started": "2023-09-12T19:37:23.030420Z"
    }
   },
   "outputs": [
    {
     "name": "stderr",
     "output_type": "stream",
     "text": [
      "No config specified, defaulting to: cedr/main\n",
      "Reusing dataset cedr (/root/.cache/huggingface/datasets/cedr/main/0.1.1/117570489cbabbdf8de619bd31918a1cd680a7f286b89d04af340d0691dc2d66)\n"
     ]
    },
    {
     "data": {
      "application/vnd.jupyter.widget-view+json": {
       "model_id": "46773cbc17a84c67a56264d990fe438e",
       "version_major": 2,
       "version_minor": 0
      },
      "text/plain": [
       "  0%|          | 0/2 [00:00<?, ?it/s]"
      ]
     },
     "metadata": {},
     "output_type": "display_data"
    }
   ],
   "source": [
    "cedr = load_dataset('cedr')"
   ]
  },
  {
   "cell_type": "code",
   "execution_count": 4,
   "id": "da5a49e2-3c22-40ff-a2a5-70678975f3fb",
   "metadata": {
    "execution": {
     "iopub.execute_input": "2023-09-12T19:37:23.511383Z",
     "iopub.status.busy": "2023-09-12T19:37:23.511123Z",
     "iopub.status.idle": "2023-09-12T19:37:23.516589Z",
     "shell.execute_reply": "2023-09-12T19:37:23.515563Z",
     "shell.execute_reply.started": "2023-09-12T19:37:23.511358Z"
    }
   },
   "outputs": [],
   "source": [
    "def binarize_labels(labels):\n",
    "    return [int(len(labels)==0) ] + [int(i in labels) for i in range(5)]"
   ]
  },
  {
   "cell_type": "code",
   "execution_count": 5,
   "id": "c0258bfb-7369-42ba-83ab-3a619dbb0ca0",
   "metadata": {
    "execution": {
     "iopub.execute_input": "2023-09-12T19:37:23.518965Z",
     "iopub.status.busy": "2023-09-12T19:37:23.518710Z",
     "iopub.status.idle": "2023-09-12T19:37:31.227370Z",
     "shell.execute_reply": "2023-09-12T19:37:31.226272Z",
     "shell.execute_reply.started": "2023-09-12T19:37:23.518940Z"
    }
   },
   "outputs": [
    {
     "data": {
      "application/vnd.jupyter.widget-view+json": {
       "model_id": "211c8d1459124733b33f91cb9ba1e0c8",
       "version_major": 2,
       "version_minor": 0
      },
      "text/plain": [
       "Downloading (…)okenizer_config.json:   0%|          | 0.00/379 [00:00<?, ?B/s]"
      ]
     },
     "metadata": {},
     "output_type": "display_data"
    },
    {
     "data": {
      "application/vnd.jupyter.widget-view+json": {
       "model_id": "9fc562b3304f4c598d9b49e979f57454",
       "version_major": 2,
       "version_minor": 0
      },
      "text/plain": [
       "Downloading (…)solve/main/vocab.txt:   0%|          | 0.00/1.08M [00:00<?, ?B/s]"
      ]
     },
     "metadata": {},
     "output_type": "display_data"
    },
    {
     "data": {
      "application/vnd.jupyter.widget-view+json": {
       "model_id": "8cbfc0b7766b42f7a7509fa20c70362f",
       "version_major": 2,
       "version_minor": 0
      },
      "text/plain": [
       "Downloading (…)/main/tokenizer.json:   0%|          | 0.00/1.74M [00:00<?, ?B/s]"
      ]
     },
     "metadata": {},
     "output_type": "display_data"
    },
    {
     "data": {
      "application/vnd.jupyter.widget-view+json": {
       "model_id": "1dbe93124d3f4a8e8badae554110aca1",
       "version_major": 2,
       "version_minor": 0
      },
      "text/plain": [
       "Downloading (…)cial_tokens_map.json:   0%|          | 0.00/112 [00:00<?, ?B/s]"
      ]
     },
     "metadata": {},
     "output_type": "display_data"
    },
    {
     "data": {
      "application/vnd.jupyter.widget-view+json": {
       "model_id": "8429e6e8a0fd435db94f03c4418686a9",
       "version_major": 2,
       "version_minor": 0
      },
      "text/plain": [
       "Downloading (…)lve/main/config.json:   0%|          | 0.00/1.01k [00:00<?, ?B/s]"
      ]
     },
     "metadata": {},
     "output_type": "display_data"
    },
    {
     "data": {
      "application/vnd.jupyter.widget-view+json": {
       "model_id": "9f9ed9b8913e4248b1f689e4423367d0",
       "version_major": 2,
       "version_minor": 0
      },
      "text/plain": [
       "Downloading model.safetensors:   0%|          | 0.00/117M [00:00<?, ?B/s]"
      ]
     },
     "metadata": {},
     "output_type": "display_data"
    }
   ],
   "source": [
    "MODEL_NAME = 'cointegrated/rubert-tiny2-cedr-emotion-detection'\n",
    "\n",
    "tokenizer = AutoTokenizer.from_pretrained(MODEL_NAME)\n",
    "\n",
    "model = BertForSequenceClassification.from_pretrained(\n",
    "    MODEL_NAME,\n",
    "    num_labels=6, \n",
    "    problem_type='multi_label_classification'\n",
    "    )"
   ]
  },
  {
   "cell_type": "code",
   "execution_count": 6,
   "id": "b5140729-440a-4317-83ec-b20a98d05a7b",
   "metadata": {
    "execution": {
     "iopub.execute_input": "2023-09-12T19:37:31.229238Z",
     "iopub.status.busy": "2023-09-12T19:37:31.228874Z",
     "iopub.status.idle": "2023-09-12T19:37:34.078196Z",
     "shell.execute_reply": "2023-09-12T19:37:34.077084Z",
     "shell.execute_reply.started": "2023-09-12T19:37:31.229210Z"
    }
   },
   "outputs": [
    {
     "data": {
      "application/vnd.jupyter.widget-view+json": {
       "model_id": "4eb307bc92e7417183a4d93582ff9c65",
       "version_major": 2,
       "version_minor": 0
      },
      "text/plain": [
       "  0%|          | 0/8 [00:00<?, ?ba/s]"
      ]
     },
     "metadata": {},
     "output_type": "display_data"
    },
    {
     "data": {
      "application/vnd.jupyter.widget-view+json": {
       "model_id": "5026fd48cfec4bccaa3998b2a766f1e6",
       "version_major": 2,
       "version_minor": 0
      },
      "text/plain": [
       "  0%|          | 0/2 [00:00<?, ?ba/s]"
      ]
     },
     "metadata": {},
     "output_type": "display_data"
    },
    {
     "data": {
      "application/vnd.jupyter.widget-view+json": {
       "model_id": "fa234684634849ea9e7916e04489d857",
       "version_major": 2,
       "version_minor": 0
      },
      "text/plain": [
       "  0%|          | 0/7528 [00:00<?, ?ex/s]"
      ]
     },
     "metadata": {},
     "output_type": "display_data"
    },
    {
     "data": {
      "application/vnd.jupyter.widget-view+json": {
       "model_id": "001492db987c475484881995bc644b2b",
       "version_major": 2,
       "version_minor": 0
      },
      "text/plain": [
       "  0%|          | 0/1882 [00:00<?, ?ex/s]"
      ]
     },
     "metadata": {},
     "output_type": "display_data"
    }
   ],
   "source": [
    "cedr_mapped = cedr.map(\n",
    "    lambda x: tokenizer(\n",
    "        x['text'],\n",
    "        truncation=True), \n",
    "    batched=True\n",
    "    ).map(\n",
    "        lambda x: {'label': [float(y) for y in binarize_labels(x['labels'])]},\n",
    "        batched=False,\n",
    "        remove_columns=['text', 'labels', 'source']\n",
    "        )"
   ]
  },
  {
   "cell_type": "code",
   "execution_count": 7,
   "id": "96099c22-b4fc-442f-890d-47582f1b7ad8",
   "metadata": {
    "execution": {
     "iopub.execute_input": "2023-09-12T19:37:34.081121Z",
     "iopub.status.busy": "2023-09-12T19:37:34.080198Z",
     "iopub.status.idle": "2023-09-12T19:37:34.086152Z",
     "shell.execute_reply": "2023-09-12T19:37:34.084868Z",
     "shell.execute_reply.started": "2023-09-12T19:37:34.081078Z"
    }
   },
   "outputs": [],
   "source": [
    "data_collator = DataCollatorWithPadding(tokenizer)"
   ]
  },
  {
   "cell_type": "code",
   "execution_count": 8,
   "id": "fd44446d-50bb-408d-90c5-a8adef8251f5",
   "metadata": {
    "execution": {
     "iopub.execute_input": "2023-09-12T19:37:34.088953Z",
     "iopub.status.busy": "2023-09-12T19:37:34.088663Z",
     "iopub.status.idle": "2023-09-12T19:37:34.098091Z",
     "shell.execute_reply": "2023-09-12T19:37:34.096983Z",
     "shell.execute_reply.started": "2023-09-12T19:37:34.088927Z"
    }
   },
   "outputs": [],
   "source": [
    "def predict_with_model(model, dataloader):\n",
    "    preds = []\n",
    "    facts = []\n",
    "\n",
    "    for batch in tqdm(dataloader):\n",
    "        facts.append(batch.labels.cpu().numpy())\n",
    "        batch = batch.to(model.device)\n",
    "        \n",
    "        with torch.no_grad():\n",
    "            pr = model(\n",
    "                input_ids=batch.input_ids,\n",
    "                attention_mask=batch.attention_mask,\n",
    "                token_type_ids=batch.token_type_ids\n",
    "                )\n",
    "        preds.append(torch.softmax(pr.logits, -1).cpu().numpy())\n",
    "\n",
    "    facts = np.concatenate(facts)\n",
    "    preds = np.concatenate(preds)\n",
    "\n",
    "    return facts, preds\n",
    "\n",
    "\n",
    "def get_classification_report(facts, preds, model):\n",
    "    aucs = {label:roc_auc_score(facts[:, i], preds[:, i]) for i, label in model.config.id2label.items()}\n",
    "    return aucs\n",
    "\n",
    "\n",
    "def evaluate_model(model, dev_dataloader):\n",
    "    facts, preds = predict_with_model(model, dev_dataloader)\n",
    "    aucs = get_classification_report(facts, preds, model)\n",
    "    aucs['overall'] = np.mean(list(aucs.values()))\n",
    "    return aucs"
   ]
  },
  {
   "cell_type": "code",
   "execution_count": 9,
   "id": "08c97598-6516-493d-ab44-e6515cd483bf",
   "metadata": {
    "execution": {
     "iopub.execute_input": "2023-09-12T19:37:34.103725Z",
     "iopub.status.busy": "2023-09-12T19:37:34.103291Z",
     "iopub.status.idle": "2023-09-12T19:37:34.109667Z",
     "shell.execute_reply": "2023-09-12T19:37:34.108091Z",
     "shell.execute_reply.started": "2023-09-12T19:37:34.103684Z"
    }
   },
   "outputs": [],
   "source": [
    "batch_size = 64"
   ]
  },
  {
   "cell_type": "code",
   "execution_count": 10,
   "id": "b456c69a-941e-4cfd-a669-243e4b4bc4df",
   "metadata": {
    "execution": {
     "iopub.execute_input": "2023-09-12T19:37:34.114702Z",
     "iopub.status.busy": "2023-09-12T19:37:34.114375Z",
     "iopub.status.idle": "2023-09-12T19:37:34.121067Z",
     "shell.execute_reply": "2023-09-12T19:37:34.119794Z",
     "shell.execute_reply.started": "2023-09-12T19:37:34.114660Z"
    }
   },
   "outputs": [],
   "source": [
    "test_dataloader = DataLoader(\n",
    "    cedr_mapped['test'], \n",
    "    batch_size=batch_size,\n",
    "    drop_last=False,\n",
    "    shuffle=True,\n",
    "    num_workers=0,\n",
    "    collate_fn=data_collator\n",
    ")"
   ]
  },
  {
   "cell_type": "code",
   "execution_count": 11,
   "id": "cec014c5-9ca1-4732-a311-5daa411890be",
   "metadata": {
    "execution": {
     "iopub.execute_input": "2023-09-12T19:37:34.125528Z",
     "iopub.status.busy": "2023-09-12T19:37:34.125231Z",
     "iopub.status.idle": "2023-09-12T19:37:47.741533Z",
     "shell.execute_reply": "2023-09-12T19:37:47.740775Z",
     "shell.execute_reply.started": "2023-09-12T19:37:34.125500Z"
    }
   },
   "outputs": [
    {
     "data": {
      "application/vnd.jupyter.widget-view+json": {
       "model_id": "bfce4e754dcf4f6f953efe86180ba7b4",
       "version_major": 2,
       "version_minor": 0
      },
      "text/plain": [
       "  0%|          | 0/30 [00:00<?, ?it/s]"
      ]
     },
     "metadata": {},
     "output_type": "display_data"
    },
    {
     "name": "stderr",
     "output_type": "stream",
     "text": [
      "You're using a BertTokenizerFast tokenizer. Please note that with a fast tokenizer, using the `__call__` method is faster than using a method to encode the text followed by a call to the `pad` method to get a padded encoding.\n"
     ]
    }
   ],
   "source": [
    "test_results = evaluate_model(model, test_dataloader)"
   ]
  },
  {
   "cell_type": "code",
   "execution_count": 12,
   "id": "e4017ce0-9fe2-4065-a177-c806b753a332",
   "metadata": {
    "execution": {
     "iopub.execute_input": "2023-09-12T19:37:47.746620Z",
     "iopub.status.busy": "2023-09-12T19:37:47.745971Z",
     "iopub.status.idle": "2023-09-12T19:37:47.753362Z",
     "shell.execute_reply": "2023-09-12T19:37:47.752209Z",
     "shell.execute_reply.started": "2023-09-12T19:37:47.746579Z"
    }
   },
   "outputs": [
    {
     "data": {
      "text/plain": [
       "{'no_emotion': 0.9285743954656361,\n",
       " 'joy': 0.9511928957992504,\n",
       " 'sadness': 0.956353783198774,\n",
       " 'surprise': 0.8908363111599781,\n",
       " 'fear': 0.8954949670239243,\n",
       " 'anger': 0.7511348890153671,\n",
       " 'overall': 0.8955978736104884}"
      ]
     },
     "execution_count": 12,
     "metadata": {},
     "output_type": "execute_result"
    }
   ],
   "source": [
    "test_results"
   ]
  },
  {
   "cell_type": "code",
   "execution_count": 13,
   "id": "0f006026-2d54-4087-8c04-67e1f5ed7860",
   "metadata": {
    "execution": {
     "iopub.execute_input": "2023-09-12T19:37:51.457091Z",
     "iopub.status.busy": "2023-09-12T19:37:51.455834Z",
     "iopub.status.idle": "2023-09-12T19:37:51.492069Z",
     "shell.execute_reply": "2023-09-12T19:37:51.491119Z",
     "shell.execute_reply.started": "2023-09-12T19:37:51.457047Z"
    }
   },
   "outputs": [],
   "source": [
    "benchmark_args = PyTorchBenchmarkArguments(\n",
    "    models=[MODEL_NAME],\n",
    "    training=False,\n",
    "    inference=True,\n",
    "    sequence_lengths=[8,64,128,256,512],\n",
    "    batch_sizes=[1,8,32,64],\n",
    "    multi_process=True,\n",
    "    cuda=True,\n",
    "    speed=True,\n",
    ")\n",
    "\n",
    "benchmark = PyTorchBenchmark(benchmark_args)"
   ]
  },
  {
   "cell_type": "code",
   "execution_count": null,
   "id": "d38c44c3-af93-489d-8251-576f8ba967d3",
   "metadata": {},
   "outputs": [],
   "source": [
    "results = benchmark.run()"
   ]
  },
  {
   "cell_type": "code",
   "execution_count": 16,
   "id": "8c5b2109-3605-41dc-b349-2cf35f9a17dc",
   "metadata": {
    "execution": {
     "iopub.execute_input": "2023-09-12T19:46:29.248325Z",
     "iopub.status.busy": "2023-09-12T19:46:29.247109Z",
     "iopub.status.idle": "2023-09-12T19:46:29.254701Z",
     "shell.execute_reply": "2023-09-12T19:46:29.253601Z",
     "shell.execute_reply.started": "2023-09-12T19:46:29.248259Z"
    }
   },
   "outputs": [
    {
     "data": {
      "text/plain": [
       "BenchmarkOutput(time_inference_result={'cointegrated/rubert-tiny2-cedr-emotion-detection': {'bs': [1, 8, 32, 64], 'ss': [8, 64, 128, 256, 512], 'result': {1: {8: 0.0029936344013549387, 64: 0.00341445910744369, 128: 0.003241317404899746, 256: 0.00455097509548068, 512: 0.003569496003910899}, 8: {8: 0.003511209797579795, 64: 0.003955621505156159, 128: 0.003162354801315814, 256: 0.006981807597912848, 512: 0.01921859800349921}, 32: {8: 0.003725462395232171, 64: 0.004535592696629465, 128: 0.009932486701291054, 256: 0.025330946804024278, 512: 0.07335092639550567}, 64: {8: 0.0031430474016815426, 64: 0.008397517004050314, 128: 0.01852042810060084, 256: 0.04917940800078213, 512: 0.1455255846027285}}}}, memory_inference_result={'cointegrated/rubert-tiny2-cedr-emotion-detection': {'bs': [1, 8, 32, 64], 'ss': [8, 64, 128, 256, 512], 'result': {1: {8: 805, 64: 805, 128: 805, 256: 809, 512: 821}, 8: {8: 805, 64: 809, 128: 825, 256: 853, 512: 1017}, 32: {8: 809, 64: 825, 128: 897, 256: 1057, 512: 1713}, 64: {8: 809, 64: 857, 128: 961, 256: 1329, 512: 2621}}}}, time_train_result={'cointegrated/rubert-tiny2-cedr-emotion-detection': {'bs': [1, 8, 32, 64], 'ss': [8, 64, 128, 256, 512], 'result': {1: {}, 8: {}, 32: {}, 64: {}}}}, memory_train_result={'cointegrated/rubert-tiny2-cedr-emotion-detection': {'bs': [1, 8, 32, 64], 'ss': [8, 64, 128, 256, 512], 'result': {1: {}, 8: {}, 32: {}, 64: {}}}}, inference_summary=None, train_summary=None)"
      ]
     },
     "execution_count": 16,
     "metadata": {},
     "output_type": "execute_result"
    }
   ],
   "source": [
    "results"
   ]
  },
  {
   "cell_type": "code",
   "execution_count": null,
   "id": "4c23a556-b7fb-462b-8507-cac82c442768",
   "metadata": {},
   "outputs": [],
   "source": []
  },
  {
   "cell_type": "code",
   "execution_count": null,
   "id": "054c3b95-03c5-409a-98ec-94b61b094fe6",
   "metadata": {},
   "outputs": [],
   "source": []
  },
  {
   "cell_type": "code",
   "execution_count": null,
   "id": "a47dc31d-52f7-45f1-b8e2-01228ee835c9",
   "metadata": {},
   "outputs": [],
   "source": []
  },
  {
   "cell_type": "code",
   "execution_count": null,
   "id": "729541a6-a6d8-4534-9a33-97567c6e0d5c",
   "metadata": {},
   "outputs": [],
   "source": []
  }
 ],
 "metadata": {
  "kernelspec": {
   "display_name": "Python 3 (ipykernel)",
   "language": "python",
   "name": "python3"
  },
  "language_info": {
   "codemirror_mode": {
    "name": "ipython",
    "version": 3
   },
   "file_extension": ".py",
   "mimetype": "text/x-python",
   "name": "python",
   "nbconvert_exporter": "python",
   "pygments_lexer": "ipython3",
   "version": "3.10.5"
  }
 },
 "nbformat": 4,
 "nbformat_minor": 5
}
